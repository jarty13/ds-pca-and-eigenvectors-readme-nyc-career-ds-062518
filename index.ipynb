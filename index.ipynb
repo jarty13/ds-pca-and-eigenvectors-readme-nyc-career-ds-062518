{
 "cells": [
  {
   "cell_type": "markdown",
   "metadata": {},
   "source": [
    "\n",
    "# Principal Component Analysis, Eigenvectors, & Eigenvalues: lecture\n",
    "\n",
    "## 1. Introduction\n",
    "\n",
    "Up until now, We have focused on supervised learning. This group of methods aims at predicting labels based on training data that is labeled as well. Principal Component Analysis is our first so-called \"unsupervised\" estimator. Generally, the aim of unsupervised estimators is to reveal interesting data patterns without having any reference labels.\n",
    "\n",
    "The first unsupervised learning algorithm is Principal Component Analysis, also referred to as PCA. PCA is a dimensionality reduction technique which is often used in practice for visualization, feature extraction, noise filtering, etc.\n",
    "\n",
    "Generally, PCA would be applied on data sets with many variables. PCA creates new variables that are linear combinations of the original variables. The idea is to reduce the dimension of the data considerably while maintaining as much information as possible. While the purpose is to significantly reduce the dimensionality, the maximum amount of new variables that can possibly be created is equal to the number of original variables. A nice feature of PCA is that the newly created variables are uncorrelated.\n",
    "\n",
    "**A simple example** : Imagine that a data set consists of the height and weight of a group of people. One could imagine that these 2 metrics are heavily correlated, so we could basically summarize these 2 metrics in one variable, a linear combination of the two. This one variable will contain most of the information from 2 variables in one. It is important to note that the effectiveness of PCA strongly depends on the structure of the correlation matrix of the existing variables!\n",
    "\n",
    "## 2. A Brief Aside: Eigenvalues and Eigenvectors\n",
    "\n",
    "In order to understand how PCA actually works, we first need to be comfortable with **_Eigenvectors_** and **_Eigenvalues_**.\n",
    "\n",
    "An eigenvector is a vector that after transformation hasn't changed, except by a scalar value known as the *eigenvalue*.\n",
    "\n",
    "### 2.1 Definition\n",
    "\n",
    "If there exists a square matrix $A$ (an n x n matrix) , then a scalar $\\lambda$ is called the **eigenvalue** of $A$ if there is a non-zero vector $v$ such that\n",
    "\n",
    "$$Av = \\lambda v$$.\n",
    "\n",
    "This vector $v$ is then called the **eigenvector** of A corresponding to $\\lambda$.\n",
    "\n",
    "Eigenvalues and eigenvectors are very useful and have tons of applications!\n",
    "\n",
    "\n",
    "Imagine you have a matrix\n",
    "\n",
    "\\begin{equation}\n",
    "A = \\begin{bmatrix}\n",
    "   3 & 2 \\\\\n",
    "   3 & -2\n",
    "\\end{bmatrix}\n",
    "\\end{equation}\n",
    "\n",
    "We have an eigenvector\n",
    "\\begin{equation}\n",
    "v = \\begin{bmatrix}\n",
    "    2 \\\\\n",
    "    1\n",
    "\\end{bmatrix}\n",
    "\\end{equation}\n",
    "\n",
    "Let's perform the multiplication $A v$\n",
    "\n",
    "\\begin{equation}\n",
    "Av  = \\begin{bmatrix}\n",
    "   3 & 2 \\\\\n",
    "   3 & -2\n",
    "\\end{bmatrix}\n",
    "\\begin{bmatrix}\n",
    "    2 \\\\\n",
    "    1\n",
    "\\end{bmatrix} = \\begin{bmatrix}\n",
    "    3*2+2*1 \\\\\n",
    "   3*2+(-2*1)\n",
    "\\end{bmatrix}\n",
    "= \\begin{bmatrix}\n",
    "    8 \\\\\n",
    "   4\n",
    "\\end{bmatrix}\n",
    "\\end{equation}\n",
    "\n",
    "\n",
    "Now we want to see if we can find a $\\lambda$ such that\n",
    "\n",
    "\n",
    "\\begin{equation}\n",
    "Av = \\begin{bmatrix}\n",
    "   8 \\\\\n",
    "   4\n",
    "\\end{bmatrix}= \\lambda \\begin{bmatrix}\n",
    "   2 \\\\\n",
    "   1\n",
    "\\end{bmatrix}\n",
    "\\end{equation}\n",
    "\n",
    "Turns out $\\lambda =4$ is the eigenvalue for our proposed eigenvector!\n",
    "\n",
    "\n",
    "### 2.2 But how can you find values of eigenmatrices?\n",
    "\n",
    "An $n xn$ matrix has n eigenvectors and n eigenvalues! How to find the eigenvalues?\n",
    "\n",
    "$ det(A- \\lambda I)= 0$\n",
    "\n",
    "\\begin{equation}\n",
    "det(A- \\lambda I) = det\\begin{bmatrix}\n",
    "   3-\\lambda & 2 \\\\\n",
    "   3 & -2-\\lambda\n",
    "\\end{bmatrix}\n",
    "\\end{equation}\n",
    "\n",
    "This way we indeed find that 4 is an eigenvalue, and so is -3! You'll learn about the connection between eigenvalues and eigenmatrices in a second.\n",
    "\n",
    "https://georgemdallas.wordpress.com/2013/10/30/principal-component-analysis-4-dummies-eigenvectors-eigenvalues-and-dimension-reduction/\n",
    "\n",
    "https://www.youtube.com/watch?v=ue3yoeZvt8E\n",
    "\n",
    "\n",
    "## 3.  PCA: some notation\n",
    "\n",
    "### 3.1 The data matrix\n",
    "\n",
    "Let's say we have P variables $X_1, X_2, \\dots, X_p$ and $n$ observations $1,...,n$. Or data looks like this:\n",
    "\n",
    "\\begin{bmatrix}\n",
    "    X_{11} & X_{12} & X_{13} & \\dots  & X_{1p} \\\\\n",
    "    X_{21} & X_{22} & X_{23} & \\dots  & X_{2p} \\\\\n",
    "    \\vdots & \\vdots & \\vdots & \\ddots & \\vdots \\\\\n",
    "    X_{n1} & X_{n2} & X_{n3} & \\dots  & X_{np}\n",
    "\\end{bmatrix}\n",
    "\n",
    "For 2 variables, this is what our data could look like:"
   ]
  },
  {
   "cell_type": "code",
   "execution_count": 5,
   "metadata": {},
   "outputs": [
    {
     "ename": "ModuleNotFoundError",
     "evalue": "No module named 'matplotlib'",
     "output_type": "error",
     "traceback": [
      "\u001b[0;31m\u001b[0m",
      "\u001b[0;31mModuleNotFoundError\u001b[0mTraceback (most recent call last)",
      "\u001b[0;32m<ipython-input-5-a5d37e3e4321>\u001b[0m in \u001b[0;36m<module>\u001b[0;34m()\u001b[0m\n\u001b[1;32m      1\u001b[0m \u001b[0;32mimport\u001b[0m \u001b[0mnumpy\u001b[0m \u001b[0;32mas\u001b[0m \u001b[0mnp\u001b[0m\u001b[0;34m\u001b[0m\u001b[0m\n\u001b[0;32m----> 2\u001b[0;31m \u001b[0;32mimport\u001b[0m \u001b[0mmatplotlib\u001b[0m\u001b[0;34m\u001b[0m\u001b[0m\n\u001b[0m\u001b[1;32m      3\u001b[0m \u001b[0;31m# %matplotlib inline\u001b[0m\u001b[0;34m\u001b[0m\u001b[0;34m\u001b[0m\u001b[0m\n\u001b[1;32m      4\u001b[0m \u001b[0;32mimport\u001b[0m \u001b[0mnumpy\u001b[0m \u001b[0;32mas\u001b[0m \u001b[0mnp\u001b[0m\u001b[0;34m\u001b[0m\u001b[0m\n\u001b[1;32m      5\u001b[0m \u001b[0;34m\u001b[0m\u001b[0m\n",
      "\u001b[0;31mModuleNotFoundError\u001b[0m: No module named 'matplotlib'"
     ]
    }
   ],
   "source": [
    "import numpy as np\n",
    "import matplotlib\n",
    "# %matplotlib inline  \n",
    "import numpy as np\n",
    "\n",
    "np.random.seed(123)\n",
    "X = np.random.normal(2, 1.5, 50)\n",
    "Y = np.random.normal(3, 0.6, 50)\n",
    "fig, ax = plt.subplots()\n",
    "ax.axhline(y=0, color='k')\n",
    "ax.axvline(x=0, color='k')\n",
    "plt.ylim(-5,5)\n",
    "plt.xlim(-7,7)\n",
    "\n",
    "plt.scatter(X, Y, s = 6)"
   ]
  },
  {
   "cell_type": "markdown",
   "metadata": {},
   "source": [
    "3.2 The mean & mean-corrected data\n",
    "The mean of the $j$-th variable:\n",
    "\n",
    "$\\bar{X}j = \\dfrac{\\sum{i=1}^n X_{ij}}{n}= \\bar X_{.j}$\n",
    "\n",
    "To get to the mean-corrected data: substract the mean from each $X_{ij}$\n",
    "\n",
    "$x_{ij} = X_{ij}-\\bar X_{.j}$\n",
    "\n",
    "Going back to our two variables example, this is how the data would be shifted:"
   ]
  },
  {
   "cell_type": "code",
   "execution_count": 4,
   "metadata": {},
   "outputs": [
    {
     "ename": "NameError",
     "evalue": "name 'plt' is not defined",
     "output_type": "error",
     "traceback": [
      "\u001b[0;31m\u001b[0m",
      "\u001b[0;31mNameError\u001b[0mTraceback (most recent call last)",
      "\u001b[0;32m<ipython-input-4-2c34ca93adf7>\u001b[0m in \u001b[0;36m<module>\u001b[0;34m()\u001b[0m\n\u001b[0;32m----> 1\u001b[0;31m \u001b[0mfig\u001b[0m\u001b[0;34m,\u001b[0m \u001b[0max\u001b[0m \u001b[0;34m=\u001b[0m \u001b[0mplt\u001b[0m\u001b[0;34m.\u001b[0m\u001b[0msubplots\u001b[0m\u001b[0;34m(\u001b[0m\u001b[0;34m)\u001b[0m\u001b[0;34m\u001b[0m\u001b[0m\n\u001b[0m\u001b[1;32m      2\u001b[0m \u001b[0max\u001b[0m\u001b[0;34m.\u001b[0m\u001b[0maxhline\u001b[0m\u001b[0;34m(\u001b[0m\u001b[0my\u001b[0m\u001b[0;34m=\u001b[0m\u001b[0;36m0\u001b[0m\u001b[0;34m,\u001b[0m \u001b[0mcolor\u001b[0m\u001b[0;34m=\u001b[0m\u001b[0;34m'k'\u001b[0m\u001b[0;34m)\u001b[0m\u001b[0;34m\u001b[0m\u001b[0m\n\u001b[1;32m      3\u001b[0m \u001b[0max\u001b[0m\u001b[0;34m.\u001b[0m\u001b[0maxvline\u001b[0m\u001b[0;34m(\u001b[0m\u001b[0mx\u001b[0m\u001b[0;34m=\u001b[0m\u001b[0;36m0\u001b[0m\u001b[0;34m,\u001b[0m \u001b[0mcolor\u001b[0m\u001b[0;34m=\u001b[0m\u001b[0;34m'k'\u001b[0m\u001b[0;34m)\u001b[0m\u001b[0;34m\u001b[0m\u001b[0m\n\u001b[1;32m      4\u001b[0m \u001b[0mX_mean\u001b[0m \u001b[0;34m=\u001b[0m \u001b[0mX\u001b[0m\u001b[0;34m-\u001b[0m \u001b[0mnp\u001b[0m\u001b[0;34m.\u001b[0m\u001b[0mmean\u001b[0m\u001b[0;34m(\u001b[0m\u001b[0mX\u001b[0m\u001b[0;34m)\u001b[0m\u001b[0;34m\u001b[0m\u001b[0m\n\u001b[1;32m      5\u001b[0m \u001b[0mY_mean\u001b[0m \u001b[0;34m=\u001b[0m \u001b[0mY\u001b[0m\u001b[0;34m-\u001b[0m \u001b[0mnp\u001b[0m\u001b[0;34m.\u001b[0m\u001b[0mmean\u001b[0m\u001b[0;34m(\u001b[0m\u001b[0mY\u001b[0m\u001b[0;34m)\u001b[0m\u001b[0;34m\u001b[0m\u001b[0m\n",
      "\u001b[0;31mNameError\u001b[0m: name 'plt' is not defined"
     ]
    }
   ],
   "source": [
    "fig, ax = plt.subplots()\n",
    "ax.axhline(y=0, color='k')\n",
    "ax.axvline(x=0, color='k')\n",
    "X_mean = X- np.mean(X)\n",
    "Y_mean = Y- np.mean(Y)\n",
    "plt.ylim(-5,5)\n",
    "plt.xlim(-7,7)\n",
    "plt.scatter(X_mean, Y_mean, s = 6)"
   ]
  },
  {
   "cell_type": "markdown",
   "metadata": {},
   "source": [
    "3.3 The variance & standardized data\n",
    "$s^2_j = \\dfrac{\\sum_{i=1}^n (X_{ij}-\\bar X_{.j})^2}{n-1}= \\dfrac{\\sum_{i=1}^n x_{ij}^2}{n-1}$\n",
    "\n",
    "To get to the standardized data: divide the mean-corrected data by the standard deviation $s_j$.\n",
    "\n",
    "$z_{ij} = \\dfrac{x_{ij}}{s_{j}}$\n",
    "\n",
    "Going back to the example with 2 variables, this is what standardized data would look like:"
   ]
  },
  {
   "cell_type": "code",
   "execution_count": 3,
   "metadata": {},
   "outputs": [
    {
     "data": {
      "text/plain": [
       "<matplotlib.collections.PathCollection at 0x116bbe6a0>"
      ]
     },
     "execution_count": 3,
     "metadata": {},
     "output_type": "execute_result"
    },
    {
     "data": {
      "image/png": "[encoded data removed]",
      "text/plain": [
       "<matplotlib.figure.Figure at 0x116b05dd8>"
      ]
     },
     "metadata": {},
     "output_type": "display_data"
    }
   ],
   "source": [
    "fig, ax = plt.subplots()\n",
    "ax.axhline(y=0, color='k')\n",
    "ax.axvline(x=0, color='k')\n",
    "X_mean = X- np.mean(X)\n",
    "Y_mean = Y- np.mean(Y)\n",
    "X_std= np.std(X)\n",
    "Y_std = np.std(Y)\n",
    "X_stdized = X_mean / X_std\n",
    "Y_stdized = Y_mean / Y_std\n",
    "plt.ylim(-5,5)\n",
    "plt.xlim(-7,7)\n",
    "plt.scatter(X_stdized, Y_stdized, s=6)"
   ]
  },
  {
   "cell_type": "markdown",
   "metadata": {},
   "source": [
    "3.4 The covariance\n",
    "The covariance for two variables $X_j$ and $X_k$:\n",
    "\n",
    "$s_{jk} = \\dfrac{\\sum_{i=1}^n (X_{ij}-\\bar X_{.j})(X_{ij}-\\bar X_{.k})}{n-1}= \\dfrac{\\sum_{i=1}^n x_{ij}x_{ik}}{n-1}$\n",
    "\n",
    "Denote $\\mathbf{S}$ the sample covariance matrix\n",
    "\n",
    "\\begin{equation} \\mathbf{S} = \\begin{bmatrix} s^2_{1} & s_{12} & \\dots & s_{1p} \\ s_{21} & s^2_{2} & \\dots & s_{2p} \\ \\vdots & \\vdots & \\ddots & \\vdots \\ s_{p1} & s_{p2} & \\dots & s^2_{p} \\end{bmatrix} \\end{equation}\n",
    "\n",
    "When you do the same computation with standardized variables, you get the correlation. Remember that the correlation $r_{jk}$ always lies between -1 and 1.\n",
    "\n",
    "$r_{jk} = \\dfrac{\\sum_{i=1}^n z_{ij}z_{ik}}{n-1}$\n",
    "\n",
    "Then, $\\mathbf{R}$ is the correlation matrix\n",
    "\n",
    "\\begin{equation} \\mathbf{R} = \\begin{bmatrix} 1 & r_{12} & \\dots & r_{1p} \\ r_{21} & 1 & \\dots & r_{2p} \\ \\vdots & \\vdots & \\ddots & \\vdots \\ r_{p1} & r_{p2} & \\dots & 1 \\end{bmatrix} \\end{equation}\n",
    "\n",
    "4. How does PCA work? Matrices and eigendecomposition\n",
    "4.1 Finding principal components\n",
    "$ \\mathbf{X}= (X_1, X_2, \\ldots, X_p)$ is a random variable. Then the principal components of $\\mathbf{X}$, denoted by $PC_1, \\ldots, PC_p$ satisfy these 3 conditions:\n",
    "\n",
    "$(PC_1, PC_2, \\ldots, PC_p)$ are mutually uncorrelated\n",
    "$var(PC_1)\\geq var(PC_2) \\geq \\ldots \\geq var(PC_p)$\n",
    "$PC_j = c_{j1} X_1+c_{j2} X_2+\\ldots+c_{jp} X_p$\n",
    "Note that for $j=1,\\ldots,p$ and $c_j = (c_{j1}, c_{j2}, \\ldots, c_{jp})$' is a vector of constants satisfying $ \\lVert{\\mathbf{c_j} \\rVert^2 = \\mathbf{c'j}\\mathbf{c_j}} = \\displaystyle\\sum^p{k=1} c^2_{kj}=1 $\n",
    "\n",
    "The variance of $PC$ is then: $var(PC_j) = var( c_{j1} X_1+c_{j2} X_2+\\ldots+c_{jp} X_p) \\ = c_{j1}^2 var(X_1) +c_{j2}^2 var(X_2) + \\ldots + c_{jp}^2 var(X_p) + 2 \\displaystyle\\sum_k\\sum_{l \\neq k}c_{jk}c_{jl} cov(X_k, X_l) \\ = c_j' \\Sigma c_j$\n",
    "\n",
    "In words, this means that variances can easily be computed using the coefficients used while making the linear combinations.\n",
    "\n",
    "We can prove that $var(PC_1)\\geq var(PC_2) \\geq \\ldots \\geq var(PC_p)$ is actually given by the eigenvalues $\\lambda_1\\geq \\lambda_2 \\geq \\ldots \\geq \\lambda_3$ and the eigenvectors are given by $c_j = (c_{j1}, c_{j2}, \\ldots, c_{jp})$. From here on, we'll denote the eigenvectors by $e_j$ instead of $c_j$.\n",
    "\n",
    "Sources\n",
    "http://www.bbk.ac.uk/ems/faculty/brooms/teaching/SMDA/SMDA-02.pdf\n",
    "\n",
    "https://stackoverflow.com/questions/13224362/principal-component-analysis-pca-in-python\n",
    "\n",
    "https://georgemdallas.wordpress.com/2013/10/30/principal-component-analysis-4-dummies-eigenvectors-eigenvalues-and-dimension-reduction/"
   ]
  }
 ],
 "metadata": {
  "kernelspec": {
   "display_name": "Python 3",
   "language": "python",
   "name": "python3"
  },
  "language_info": {
   "codemirror_mode": {
    "name": "ipython",
    "version": 3
   },
   "file_extension": ".py",
   "mimetype": "text/x-python",
   "name": "python",
   "nbconvert_exporter": "python",
   "pygments_lexer": "ipython3",
   "version": "3.6.4"
  }
 },
 "nbformat": 4,
 "nbformat_minor": 2
}
